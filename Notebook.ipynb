{
 "cells": [
  {
   "cell_type": "markdown",
   "metadata": {},
   "source": [
    "# <font color='056938'> **Caso de Estudio Aprendizaje No Supervisado** </font>\n",
    "---"
   ]
  },
  {
   "cell_type": "markdown",
   "metadata": {},
   "source": [
    "## <font color='157699'> Importanción de Librerías </font>"
   ]
  },
  {
   "cell_type": "code",
   "execution_count": 1,
   "metadata": {},
   "outputs": [
    {
     "name": "stdout",
     "output_type": "stream",
     "text": [
      "Requirement already satisfied: kneed in c:\\users\\cr-19\\anaconda3\\lib\\site-packages (0.8.5)\n",
      "Requirement already satisfied: numpy>=1.14.2 in c:\\users\\cr-19\\anaconda3\\lib\\site-packages (from kneed) (1.23.5)\n",
      "Requirement already satisfied: scipy>=1.0.0 in c:\\users\\cr-19\\anaconda3\\lib\\site-packages (from kneed) (1.10.0)\n",
      "Note: you may need to restart the kernel to use updated packages.\n",
      "Requirement already satisfied: factor_analyzer in c:\\users\\cr-19\\anaconda3\\lib\\site-packages (0.5.1)\n",
      "Requirement already satisfied: numpy in c:\\users\\cr-19\\anaconda3\\lib\\site-packages (from factor_analyzer) (1.23.5)\n",
      "Requirement already satisfied: pandas in c:\\users\\cr-19\\anaconda3\\lib\\site-packages (from factor_analyzer) (1.5.3)\n",
      "Requirement already satisfied: scikit-learn in c:\\users\\cr-19\\anaconda3\\lib\\site-packages (from factor_analyzer) (1.2.1)\n",
      "Requirement already satisfied: scipy in c:\\users\\cr-19\\anaconda3\\lib\\site-packages (from factor_analyzer) (1.10.0)\n",
      "Requirement already satisfied: pytz>=2020.1 in c:\\users\\cr-19\\anaconda3\\lib\\site-packages (from pandas->factor_analyzer) (2022.7)\n",
      "Requirement already satisfied: python-dateutil>=2.8.1 in c:\\users\\cr-19\\appdata\\roaming\\python\\python310\\site-packages (from pandas->factor_analyzer) (2.8.2)\n",
      "Requirement already satisfied: joblib>=1.1.1 in c:\\users\\cr-19\\anaconda3\\lib\\site-packages (from scikit-learn->factor_analyzer) (1.1.1)\n",
      "Requirement already satisfied: threadpoolctl>=2.0.0 in c:\\users\\cr-19\\anaconda3\\lib\\site-packages (from scikit-learn->factor_analyzer) (2.2.0)\n",
      "Requirement already satisfied: six>=1.5 in c:\\users\\cr-19\\appdata\\roaming\\python\\python310\\site-packages (from python-dateutil>=2.8.1->pandas->factor_analyzer) (1.16.0)\n",
      "Note: you may need to restart the kernel to use updated packages.\n"
     ]
    }
   ],
   "source": [
    "import numpy as np\n",
    "import matplotlib.pyplot as plt\n",
    "import pandas as pd\n",
    "import seaborn as sns\n",
    "\n",
    "from sklearn.preprocessing import LabelEncoder, StandardScaler\n",
    "from sklearn.metrics import silhouette_score, calinski_harabasz_score\n",
    "\n",
    "%pip install kneed\n",
    "from kneed import KneeLocator\n",
    "\n",
    "from scipy.spatial.distance import cdist\n",
    "from sklearn.cluster import KMeans, DBSCAN\n",
    "from sklearn.mixture import GaussianMixture\n",
    "from sklearn.decomposition import PCA, FactorAnalysis\n",
    "\n",
    "%pip install factor_analyzer\n",
    "from factor_analyzer import FactorAnalyzer"
   ]
  },
  {
   "cell_type": "code",
   "execution_count": 2,
   "metadata": {},
   "outputs": [],
   "source": [
    "import warnings\n",
    "warnings.filterwarnings('ignore')"
   ]
  },
  {
   "cell_type": "code",
   "execution_count": null,
   "metadata": {},
   "outputs": [],
   "source": []
  },
  {
   "cell_type": "markdown",
   "metadata": {},
   "source": [
    "## <font color='157699'> Lectura del Dataset </font>"
   ]
  },
  {
   "cell_type": "code",
   "execution_count": 7,
   "metadata": {},
   "outputs": [
    {
     "data": {
      "text/html": [
       "<div>\n",
       "<style scoped>\n",
       "    .dataframe tbody tr th:only-of-type {\n",
       "        vertical-align: middle;\n",
       "    }\n",
       "\n",
       "    .dataframe tbody tr th {\n",
       "        vertical-align: top;\n",
       "    }\n",
       "\n",
       "    .dataframe thead th {\n",
       "        text-align: right;\n",
       "    }\n",
       "</style>\n",
       "<table border=\"1\" class=\"dataframe\">\n",
       "  <thead>\n",
       "    <tr style=\"text-align: right;\">\n",
       "      <th></th>\n",
       "      <th>User;Category 1;Category 2;Category 3;Category 4;Category 5;Category 6;Category 7;Category 8;Category 9;Category 10;Category 11;Category 12;Category 13;Category 14;Category 15;Category 16;Category 17;Category 18;Category 19;Category 20;Category 21;Category 22;Category 23;Category 24;</th>\n",
       "    </tr>\n",
       "  </thead>\n",
       "  <tbody>\n",
       "    <tr>\n",
       "      <th>0</th>\n",
       "      <td>User 1;0.00;0.00;3.63;3.65;5.00;2.92;5.00;2.35...</td>\n",
       "    </tr>\n",
       "    <tr>\n",
       "      <th>1</th>\n",
       "      <td>User 2;0.00;0.00;3.63;3.65;5.00;2.92;5.00;2.64...</td>\n",
       "    </tr>\n",
       "    <tr>\n",
       "      <th>2</th>\n",
       "      <td>User 3;0.00;0.00;3.63;3.63;5.00;2.92;5.00;2.64...</td>\n",
       "    </tr>\n",
       "    <tr>\n",
       "      <th>3</th>\n",
       "      <td>User 4;0.00;0.50;3.63;3.63;5.00;2.92;5.00;2.35...</td>\n",
       "    </tr>\n",
       "    <tr>\n",
       "      <th>4</th>\n",
       "      <td>User 5;0.00;0.00;3.63;3.63;5.00;2.92;5.00;2.64...</td>\n",
       "    </tr>\n",
       "  </tbody>\n",
       "</table>\n",
       "</div>"
      ],
      "text/plain": [
       "  User;Category 1;Category 2;Category 3;Category 4;Category 5;Category 6;Category 7;Category 8;Category 9;Category 10;Category 11;Category 12;Category 13;Category 14;Category 15;Category 16;Category 17;Category 18;Category 19;Category 20;Category 21;Category 22;Category 23;Category 24;\n",
       "0  User 1;0.00;0.00;3.63;3.65;5.00;2.92;5.00;2.35...                                                                                                                                                                                                                                          \n",
       "1  User 2;0.00;0.00;3.63;3.65;5.00;2.92;5.00;2.64...                                                                                                                                                                                                                                          \n",
       "2  User 3;0.00;0.00;3.63;3.63;5.00;2.92;5.00;2.64...                                                                                                                                                                                                                                          \n",
       "3  User 4;0.00;0.50;3.63;3.63;5.00;2.92;5.00;2.35...                                                                                                                                                                                                                                          \n",
       "4  User 5;0.00;0.00;3.63;3.63;5.00;2.92;5.00;2.64...                                                                                                                                                                                                                                          "
      ]
     },
     "execution_count": 7,
     "metadata": {},
     "output_type": "execute_result"
    }
   ],
   "source": [
    "# Lectura del dataset\n",
    "df = pd.read_csv('https://raw.githubusercontent.com/Leostark95/Analitica_2_Proyecto_2/master/BD.csv', sep = \",\")\n",
    "df.head()"
   ]
  }
 ],
 "metadata": {
  "kernelspec": {
   "display_name": "base",
   "language": "python",
   "name": "python3"
  },
  "language_info": {
   "codemirror_mode": {
    "name": "ipython",
    "version": 3
   },
   "file_extension": ".py",
   "mimetype": "text/x-python",
   "name": "python",
   "nbconvert_exporter": "python",
   "pygments_lexer": "ipython3",
   "version": "3.10.9"
  }
 },
 "nbformat": 4,
 "nbformat_minor": 2
}
